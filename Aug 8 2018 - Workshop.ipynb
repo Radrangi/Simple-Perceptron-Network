{
 "cells": [
  {
   "cell_type": "code",
   "execution_count": 3,
   "metadata": {},
   "outputs": [],
   "source": [
    "import random\n",
    "import numpy as np\n",
    "import matplotlib.pyplot as plt"
   ]
  },
  {
   "cell_type": "code",
   "execution_count": 73,
   "metadata": {},
   "outputs": [],
   "source": [
    "class Perceptron:\n",
    "    \n",
    "    def __init__(self, num_inputs):\n",
    "        self.weights = []\n",
    "        self.num_inputs = num_inputs\n",
    "        for _ in range(0, num_inputs):\n",
    "            self.weights.append(random.random() * 2 - 1)\n",
    "        print(self.weights)\n",
    "        \n",
    "    def feed_forward(self, inputs):\n",
    "        self.inputs = inputs\n",
    "        sum = 0\n",
    "        for i in range(0, self.num_inputs):\n",
    "            sum += self.weights[i] * inputs[i]\n",
    "        self.output = self.activation(sum)\n",
    "        return self.output\n",
    "    \n",
    "    def activation(self, x):\n",
    "        if x >= 0:\n",
    "            return 1\n",
    "        return 0\n",
    "    \n",
    "    def backward_pass(self, error):\n",
    "        learning_rate = 0.01\n",
    "        for i in range(0, self.num_inputs):\n",
    "            self.weights[i] -= error * self.inputs[i] * learning_rate\n",
    "            \n",
    "    def get_weights(self):\n",
    "        return self.weights"
   ]
  },
  {
   "cell_type": "code",
   "execution_count": 22,
   "metadata": {},
   "outputs": [
    {
     "name": "stdout",
     "output_type": "stream",
     "text": [
      "[-0.2765020002034475, -0.9013155075254977, -0.664592009534086, 0.7465998660541739, -0.1310599812655988]\n"
     ]
    }
   ],
   "source": [
    "p = Perceptron(5)"
   ]
  },
  {
   "cell_type": "code",
   "execution_count": 23,
   "metadata": {},
   "outputs": [
    {
     "data": {
      "text/plain": [
       "0"
      ]
     },
     "execution_count": 23,
     "metadata": {},
     "output_type": "execute_result"
    }
   ],
   "source": [
    "p.feed_forward([1, 2, 3, 4, 5])"
   ]
  },
  {
   "cell_type": "code",
   "execution_count": 24,
   "metadata": {},
   "outputs": [],
   "source": [
    "def line(x):\n",
    "    return 0.5 * x"
   ]
  },
  {
   "cell_type": "code",
   "execution_count": 25,
   "metadata": {},
   "outputs": [
    {
     "data": {
      "text/plain": [
       "5.0"
      ]
     },
     "execution_count": 25,
     "metadata": {},
     "output_type": "execute_result"
    }
   ],
   "source": [
    "line(10)"
   ]
  },
  {
   "cell_type": "code",
   "execution_count": 146,
   "metadata": {},
   "outputs": [],
   "source": [
    "def graph(formula, weights = []):\n",
    "    x = np.array(range(0, 1000))\n",
    "    y = formula(x)\n",
    "    plt.plot(x, y)\n",
    "    \n",
    "    if len(weights) == 2:\n",
    "        y2 = (-weights[0] / weights[1]) * x\n",
    "        plt.plot(x, y2)\n",
    "        \n",
    "    if len(weights) == 3:\n",
    "        y2 = (-weights[0] / weights[1]) * x - (weights[2] / weights[1])\n",
    "        plt.plot(x, y2)\n",
    "    \n",
    "    plt.xlim(0, 1000)\n",
    "    plt.ylim(0, 1000)\n",
    "    plt.show()"
   ]
  },
  {
   "cell_type": "code",
   "execution_count": 27,
   "metadata": {},
   "outputs": [
    {
     "data": {
      "image/png": "[encoded data removed]",
      "text/plain": [
       "<matplotlib.figure.Figure at 0x1c751cf9b38>"
      ]
     },
     "metadata": {},
     "output_type": "display_data"
    }
   ],
   "source": [
    "graph(line)"
   ]
  },
  {
   "cell_type": "code",
   "execution_count": 116,
   "metadata": {},
   "outputs": [
    {
     "name": "stdout",
     "output_type": "stream",
     "text": [
      "[0.8450149993337561, -0.3384658429634084]\n"
     ]
    }
   ],
   "source": [
    "p = Perceptron(2)"
   ]
  },
  {
   "cell_type": "code",
   "execution_count": 51,
   "metadata": {},
   "outputs": [
    {
     "name": "stdout",
     "output_type": "stream",
     "text": [
      "503.26432058114636 21.80637500591953\n",
      "503.26432058114636 251.63216029057318\n",
      "0\n"
     ]
    }
   ],
   "source": [
    "x_coord = random.random() * 1000\n",
    "y_coord = random.random() * 1000\n",
    "line_y = line(x_coord)\n",
    "\n",
    "print(x_coord, y_coord)\n",
    "print(x_coord, line_y)\n",
    "\n",
    "if y_coord > line_y:\n",
    "    answer = 1\n",
    "else:\n",
    "    answer = 0\n",
    "    \n",
    "print(answer)"
   ]
  },
  {
   "cell_type": "code",
   "execution_count": 118,
   "metadata": {},
   "outputs": [
    {
     "name": "stdout",
     "output_type": "stream",
     "text": [
      "539\n"
     ]
    }
   ],
   "source": [
    "correct = 0\n",
    "for _ in range(0, 1000):\n",
    "    x_coord = random.random() * 1000\n",
    "    y_coord = random.random() * 1000\n",
    "    line_y = line(x_coord)\n",
    "    \n",
    "    is_above = y_coord > line_y\n",
    "    guess_above = p.feed_forward([x_coord, y_coord])\n",
    "    \n",
    "    if (is_above == True) and guess_above >= 0.5:\n",
    "        correct += 1\n",
    "    if (is_above == False) and guess_above < 0.5:\n",
    "        correct += 1\n",
    "        \n",
    "print(correct)"
   ]
  },
  {
   "cell_type": "code",
   "execution_count": 125,
   "metadata": {},
   "outputs": [
    {
     "name": "stdout",
     "output_type": "stream",
     "text": [
      "[-5.479322250188181, 9.610370070221213]\n"
     ]
    }
   ],
   "source": [
    "# training loop\n",
    "for _ in range(0, 5):\n",
    "    x_coord = random.random() * 1000\n",
    "    y_coord = random.random() * 1000\n",
    "    line_y = line(x_coord)\n",
    "    \n",
    "    if y_coord > line_y:\n",
    "        answer = 1\n",
    "    else:\n",
    "        answer = 0\n",
    "        \n",
    "    guess = p.feed_forward([x_coord, y_coord])\n",
    "    p.backward_pass(guess - answer)\n",
    "    \n",
    "print(p.get_weights())"
   ]
  },
  {
   "cell_type": "code",
   "execution_count": 126,
   "metadata": {},
   "outputs": [
    {
     "data": {
      "image/png": "[encoded data removed]",
      "text/plain": [
       "<matplotlib.figure.Figure at 0x1c752121f60>"
      ]
     },
     "metadata": {},
     "output_type": "display_data"
    }
   ],
   "source": [
    "graph(line, p.get_weights())"
   ]
  },
  {
   "cell_type": "code",
   "execution_count": 128,
   "metadata": {},
   "outputs": [],
   "source": [
    "def line(x):\n",
    "    return 0.5 * x + 500"
   ]
  },
  {
   "cell_type": "code",
   "execution_count": 129,
   "metadata": {},
   "outputs": [
    {
     "data": {
      "image/png": "[encoded data removed]",
      "text/plain": [
       "<matplotlib.figure.Figure at 0x1c75219cf98>"
      ]
     },
     "metadata": {},
     "output_type": "display_data"
    }
   ],
   "source": [
    "graph(line)"
   ]
  },
  {
   "cell_type": "code",
   "execution_count": 134,
   "metadata": {},
   "outputs": [
    {
     "name": "stdout",
     "output_type": "stream",
     "text": [
      "[0.22359914019261473, -0.9287602058239934, -0.6492582929579929]\n"
     ]
    }
   ],
   "source": [
    "p = Perceptron(3)"
   ]
  },
  {
   "cell_type": "code",
   "execution_count": 144,
   "metadata": {},
   "outputs": [
    {
     "name": "stdout",
     "output_type": "stream",
     "text": [
      "821\n"
     ]
    }
   ],
   "source": [
    "correct = 0\n",
    "for _ in range(0, 1000):\n",
    "    x_coord = random.random() * 1000\n",
    "    y_coord = random.random() * 1000\n",
    "    line_y = line(x_coord)\n",
    "    \n",
    "    is_above = y_coord > line_y\n",
    "    guess_above = p.feed_forward([x_coord, y_coord, 1])\n",
    "    \n",
    "    if (is_above == True) and guess_above >= 0.5:\n",
    "        correct += 1\n",
    "    if (is_above == False) and guess_above < 0.5:\n",
    "        correct += 1\n",
    "        \n",
    "print(correct)"
   ]
  },
  {
   "cell_type": "code",
   "execution_count": 155,
   "metadata": {},
   "outputs": [
    {
     "name": "stdout",
     "output_type": "stream",
     "text": [
      "[-17.952399499647868, 19.71292370003205, -5211.329258360289]\n"
     ]
    }
   ],
   "source": [
    "# training loop\n",
    "for _ in range(0, 10000000):\n",
    "    x_coord = random.random() * 1000\n",
    "    y_coord = random.random() * 1000\n",
    "    line_y = line(x_coord)\n",
    "    \n",
    "    if y_coord > line_y:\n",
    "        answer = 1\n",
    "    else:\n",
    "        answer = 0\n",
    "        \n",
    "    guess = p.feed_forward([x_coord, y_coord, 1])\n",
    "    p.backward_pass(guess - answer)\n",
    "    \n",
    "print(p.get_weights())"
   ]
  },
  {
   "cell_type": "code",
   "execution_count": 156,
   "metadata": {},
   "outputs": [
    {
     "data": {
      "image/png": "[encoded data removed]",
      "text/plain": [
       "<matplotlib.figure.Figure at 0x1c7525915c0>"
      ]
     },
     "metadata": {},
     "output_type": "display_data"
    }
   ],
   "source": [
    "graph(line, p.get_weights())"
   ]
  },
  {
   "cell_type": "code",
   "execution_count": null,
   "metadata": {},
   "outputs": [],
   "source": []
  }
 ],
 "metadata": {
  "kernelspec": {
   "display_name": "Python 3",
   "language": "python",
   "name": "python3"
  },
  "language_info": {
   "codemirror_mode": {
    "name": "ipython",
    "version": 3
   },
   "file_extension": ".py",
   "mimetype": "text/x-python",
   "name": "python",
   "nbconvert_exporter": "python",
   "pygments_lexer": "ipython3",
   "version": "3.6.4"
  }
 },
 "nbformat": 4,
 "nbformat_minor": 2
}
