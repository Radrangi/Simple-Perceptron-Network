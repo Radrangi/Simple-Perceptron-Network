{
 "cells": [
  {
   "cell_type": "code",
   "execution_count": 1,
   "metadata": {},
   "outputs": [],
   "source": [
    "import random\n",
    "import numpy as np"
   ]
  },
  {
   "cell_type": "markdown",
   "metadata": {},
   "source": [
    "**Perceptron Class**\n",
    "\n",
    "Here we create a class for the Perceptron that we may use to instatiate any number of Perceptron instances."
   ]
  },
  {
   "cell_type": "code",
   "execution_count": 2,
   "metadata": {},
   "outputs": [],
   "source": [
    "class Perceptron:\n",
    "    \n",
    "    def __init__(self, num_inputs, act='sigmoid'):\n",
    "        self.weights = []\n",
    "        self.num_inputs = num_inputs\n",
    "        self.act = act # define activation function with sigmoid being the default\n",
    "        for _ in range(0, num_inputs):\n",
    "            self.weights.append(random.random() * 2 - 1)\n",
    "        print(self.weights)\n",
    "            \n",
    "    def get_weights(self):\n",
    "        return self.weights\n",
    "        \n",
    "    def feed_forward(self, inputs):\n",
    "        self.inputs = inputs\n",
    "        sum = 0\n",
    "        \n",
    "        # multiply inputs by weights and sum them\n",
    "        for i in range(0, self.num_inputs):\n",
    "            sum += self.weights[i] * inputs[i]\n",
    "            \n",
    "        # 'activate' the sum and get the derivative\n",
    "        self.output, self.output_prime = self.activate(sum)\n",
    "        return self.output\n",
    "    \n",
    "    def activate(self, x):\n",
    "        if (self.act == 'sigmoid'):\n",
    "            activation = self.sigmoid(x)\n",
    "            activation_prime = activation * (1 - activation)\n",
    "        else:\n",
    "            activation = self.step(x)\n",
    "            activation_prime = 1 # use 1 since step activation is not differentiable\n",
    "        return activation, activation_prime\n",
    "    \n",
    "    def sigmoid(self, x):\n",
    "        return 1/(1 + np.exp(-x))\n",
    "    \n",
    "    def step(self, x):\n",
    "        if x > 0:\n",
    "            return 1\n",
    "        return 0\n",
    "    \n",
    "    def backward_pass(self, error):\n",
    "        learning_rate = 0.01 # hyperparameter\n",
    "        back_error = [] # each element in list represent amount of error to send backward along that connection\n",
    "        for i in range(0, self.num_inputs):\n",
    "            back_error.append(error * self.output_prime * self.weights[i])\n",
    "            self.weights[i] -= error * self.output_prime * self.inputs[i] * learning_rate\n",
    "        return back_error"
   ]
  },
  {
   "cell_type": "markdown",
   "metadata": {},
   "source": [
    "**Single Perceptron to classify a point as being above or below a line**\n",
    "\n",
    "Begin with a line going through the origin."
   ]
  },
  {
   "cell_type": "code",
   "execution_count": 44,
   "metadata": {},
   "outputs": [],
   "source": [
    "def line(x):\n",
    "    return 0.5 * x"
   ]
  },
  {
   "cell_type": "code",
   "execution_count": 56,
   "metadata": {},
   "outputs": [
    {
     "name": "stdout",
     "output_type": "stream",
     "text": [
      "[-0.08058198345153089, 0.9651201836932843]\n",
      "0.8845382002417534\n"
     ]
    }
   ],
   "source": [
    "p = Perceptron(2, act='step')\n",
    "weights = p.get_weights()\n",
    "print(sum(weights))"
   ]
  },
  {
   "cell_type": "code",
   "execution_count": 79,
   "metadata": {},
   "outputs": [
    {
     "name": "stdout",
     "output_type": "stream",
     "text": [
      "901.9672274233975 255.103627952859\n",
      "901.9672274233975 450.98361371169875\n",
      "0\n"
     ]
    }
   ],
   "source": [
    "# pick 1 random point and determine if it's above or below the line\n",
    "x_coord = random.random() * 1000\n",
    "y_coord = random.random() * 1000\n",
    "line_y = line(x_coord)\n",
    "\n",
    "print(x_coord, y_coord)\n",
    "print(x_coord, line_y)\n",
    "\n",
    "if y_coord > line_y:\n",
    "    answer = 1\n",
    "else:\n",
    "    answer = 0\n",
    "    \n",
    "print(answer)"
   ]
  },
  {
   "cell_type": "code",
   "execution_count": 80,
   "metadata": {},
   "outputs": [
    {
     "name": "stdout",
     "output_type": "stream",
     "text": [
      "[-8.685332254545209, -2.38793593594849]\n"
     ]
    },
    {
     "data": {
      "text/plain": [
       "[-8.685332254545209, -2.38793593594849]"
      ]
     },
     "execution_count": 80,
     "metadata": {},
     "output_type": "execute_result"
    }
   ],
   "source": [
    "# pass the random point into the node, feed it back and see if the weights change\n",
    "guess = p.feed_forward([x_coord, y_coord])\n",
    "p.backward_pass(guess - answer)\n",
    "p.get_weights()"
   ]
  },
  {
   "cell_type": "code",
   "execution_count": 57,
   "metadata": {},
   "outputs": [
    {
     "data": {
      "text/plain": [
       "[-18.29384246820456, 36.81655593994777]"
      ]
     },
     "execution_count": 57,
     "metadata": {},
     "output_type": "execute_result"
    }
   ],
   "source": [
    "# train the network\n",
    "for _ in range(0, 1000):\n",
    "    x_coord = random.random() * 1000\n",
    "    y_coord = random.random() * 1000\n",
    "    line_y = line(x_coord)\n",
    "    \n",
    "    if y_coord > line_y:\n",
    "        answer = 1\n",
    "    else:\n",
    "        answer = 0\n",
    "    \n",
    "    guess = p.feed_forward([x_coord, y_coord])\n",
    "    p.backward_pass(guess - answer)\n",
    "    \n",
    "p.get_weights()"
   ]
  },
  {
   "cell_type": "code",
   "execution_count": 58,
   "metadata": {},
   "outputs": [
    {
     "name": "stdout",
     "output_type": "stream",
     "text": [
      "999\n"
     ]
    }
   ],
   "source": [
    "# check the accuracy\n",
    "correct = 0\n",
    "\n",
    "for _ in range(0,1000):\n",
    "    x_coord = random.random() * 1000\n",
    "    y_coord = random.random() * 1000\n",
    "    line_y = line(x_coord)\n",
    "    \n",
    "    is_above = y_coord > line_y\n",
    "    guess_above = p.feed_forward([x_coord, y_coord, 1])\n",
    "    \n",
    "    if (is_above == True and guess_above >= 0.5):\n",
    "        correct += 1\n",
    "    if (is_above == False and guess_above < 0.5):\n",
    "        correct += 1\n",
    "\n",
    "print(correct)"
   ]
  },
  {
   "cell_type": "markdown",
   "metadata": {},
   "source": [
    "Add bias to the node in order to handle lines that do not go through the origin."
   ]
  },
  {
   "cell_type": "code",
   "execution_count": 71,
   "metadata": {},
   "outputs": [],
   "source": [
    "def line(x):\n",
    "    return 0.5 * x + 500"
   ]
  },
  {
   "cell_type": "code",
   "execution_count": 78,
   "metadata": {},
   "outputs": [
    {
     "name": "stdout",
     "output_type": "stream",
     "text": [
      "[0.2214871748797087, 0.17398763304982867, -0.5255616218064509]\n"
     ]
    }
   ],
   "source": [
    "p = Perceptron(3, act='step')\n",
    "weights = p.get_weights()"
   ]
  },
  {
   "cell_type": "code",
   "execution_count": 79,
   "metadata": {},
   "outputs": [
    {
     "data": {
      "text/plain": [
       "[-15.181007899220747, 13.873452267396452, -65.51556162180306]"
      ]
     },
     "execution_count": 79,
     "metadata": {},
     "output_type": "execute_result"
    }
   ],
   "source": [
    "# train the Perceptron using a bias term\n",
    "for _ in range(0, 100000):\n",
    "    x_coord = random.random() * 1000\n",
    "    y_coord = random.random() * 1000\n",
    "    line_y = line(x_coord)\n",
    "    \n",
    "    if y_coord > line_y:\n",
    "        answer = 1\n",
    "    else:\n",
    "        answer = 0\n",
    "    \n",
    "    guess = p.feed_forward([x_coord, y_coord, 1])\n",
    "    p.backward_pass(guess - answer)\n",
    "    \n",
    "p.get_weights()"
   ]
  },
  {
   "cell_type": "code",
   "execution_count": 80,
   "metadata": {},
   "outputs": [
    {
     "name": "stdout",
     "output_type": "stream",
     "text": [
      "800\n"
     ]
    }
   ],
   "source": [
    "# determine the accuracy\n",
    "correct = 0\n",
    "\n",
    "for _ in range(0,1000):\n",
    "    x_coord = random.random() * 1000\n",
    "    y_coord = random.random() * 1000\n",
    "    line_y = line(x_coord)\n",
    "    \n",
    "    above = y_coord > line_y\n",
    "    guess_above = p.feed_forward([x_coord, y_coord, 1])\n",
    "    \n",
    "    if (above == True and guess_above >= 0.5):\n",
    "        correct += 1\n",
    "    if (above == False and guess_above < 0.5):\n",
    "        correct += 1\n",
    "\n",
    "print(correct)"
   ]
  },
  {
   "cell_type": "markdown",
   "metadata": {},
   "source": [
    "**Perceptrons for Logic**\n",
    "\n",
    "Implement logicial AND and OR"
   ]
  },
  {
   "cell_type": "code",
   "execution_count": 58,
   "metadata": {},
   "outputs": [
    {
     "name": "stdout",
     "output_type": "stream",
     "text": [
      "[0.1973171969546439, 0.9407410789339032, -0.8785536451209432]\n",
      "[0.8440494165572345, -0.7232351403105719, 0.1247101699302735]\n"
     ]
    }
   ],
   "source": [
    "a = Perceptron(3) # logical AND\n",
    "b = Perceptron(3) # logical OR"
   ]
  },
  {
   "cell_type": "code",
   "execution_count": 65,
   "metadata": {},
   "outputs": [
    {
     "name": "stdout",
     "output_type": "stream",
     "text": [
      "[5.153930989203262, 5.152757919753352, -7.824237161307208]\n",
      "[5.854616254553259, 5.851694138766977, -2.675989289602662]\n"
     ]
    }
   ],
   "source": [
    "# Train the 'a' Perceptron for logical AND\n",
    "for _ in range(0,100000):\n",
    "    first = random.choice([0, 1])\n",
    "    second = random.choice([0, 1])\n",
    "    a_out = a.feed_forward([first, second, 1])\n",
    "    \n",
    "    if (first and second):\n",
    "        answer = 1\n",
    "    else:\n",
    "        answer = 0\n",
    "    a.backward_pass(a_out - answer)\n",
    "    \n",
    "print(a.get_weights())\n",
    "\n",
    "# Train the 'b' Perceptron for logical OR\n",
    "for _ in range(0,100000):\n",
    "    first = random.choice([0, 1])\n",
    "    second = random.choice([0, 1])\n",
    "    b_out = b.feed_forward([first, second, 1])\n",
    "    \n",
    "    if (first or second):\n",
    "        answer = 1\n",
    "    else:\n",
    "        answer = 0\n",
    "    b.backward_pass(b_out - answer)\n",
    "    \n",
    "print(b.get_weights())"
   ]
  },
  {
   "cell_type": "code",
   "execution_count": 66,
   "metadata": {
    "scrolled": true
   },
   "outputs": [
    {
     "name": "stdout",
     "output_type": "stream",
     "text": [
      "Logical AND\n",
      "0.922902429355317\n",
      "0.06474842555742528\n",
      "0.06467742534473865\n",
      "0.00039976367222106004\n",
      "\n",
      "Logical OR\n",
      "0.9998802902889667\n",
      "0.9600220025673405\n",
      "0.9599097015938103\n",
      "0.06440512841264989\n"
     ]
    }
   ],
   "source": [
    "print(\"Logical AND\")\n",
    "print(a.feed_forward([1, 1, 1]))\n",
    "print(a.feed_forward([1, 0, 1]))\n",
    "print(a.feed_forward([0, 1, 1]))\n",
    "print(a.feed_forward([0, 0, 1]))\n",
    "print(\"\\nLogical OR\")\n",
    "print(b.feed_forward([1, 1, 1]))\n",
    "print(b.feed_forward([1, 0, 1]))\n",
    "print(b.feed_forward([0, 1, 1]))\n",
    "print(b.feed_forward([0, 0, 1]))"
   ]
  },
  {
   "cell_type": "markdown",
   "metadata": {},
   "source": [
    "**XOR with 2 Perceptrons**"
   ]
  },
  {
   "cell_type": "code",
   "execution_count": 40,
   "metadata": {},
   "outputs": [
    {
     "name": "stdout",
     "output_type": "stream",
     "text": [
      "[-0.7324361935978867, -0.4001735717141355, 0.08008286093765427]\n",
      "[-0.32654986517018636, -0.46175675370799096, 0.08301394583566357, 0.5574669963236427]\n"
     ]
    }
   ],
   "source": [
    "a = Perceptron(3, act='sigmoid')\n",
    "b = Perceptron(4, act='sigmoid')"
   ]
  },
  {
   "cell_type": "code",
   "execution_count": 32,
   "metadata": {},
   "outputs": [],
   "source": [
    "def network(first, second):\n",
    "    a_out = a.feed_forward([first, second, 1])\n",
    "    b_out = b.feed_forward([first, a_out, second, 1])\n",
    "    return b_out"
   ]
  },
  {
   "cell_type": "code",
   "execution_count": 33,
   "metadata": {},
   "outputs": [
    {
     "name": "stdout",
     "output_type": "stream",
     "text": [
      "[-7.483987979457412, -7.483897410865939, 2.84301037230098]\n",
      "[-5.827465050510558, -12.897213765778515, -5.829549347096561, 8.861141901288946]\n"
     ]
    }
   ],
   "source": [
    "for _ in range(0,1000000):\n",
    "    first = random.choice([0, 1])\n",
    "    second = random.choice([0, 1])\n",
    "    \n",
    "    a_out = a.feed_forward([first, second, 1])\n",
    "    b_out = b.feed_forward([first, a_out, second, 1])\n",
    "    \n",
    "    if (first != second):\n",
    "        answer = 1\n",
    "    else:\n",
    "        answer = 0\n",
    "        \n",
    "    back_error = b.backward_pass(b_out - answer)\n",
    "    a.backward_pass(back_error[1])\n",
    "    \n",
    "print(a.get_weights())\n",
    "print(b.get_weights())"
   ]
  },
  {
   "cell_type": "code",
   "execution_count": 34,
   "metadata": {},
   "outputs": [
    {
     "name": "stdout",
     "output_type": "stream",
     "text": [
      "0.0575438332206778\n",
      "0.9483596411558143\n",
      "0.9482569276656566\n",
      "0.034684539885014534\n"
     ]
    }
   ],
   "source": [
    "print(network(1, 1))\n",
    "print(network(1, 0))\n",
    "print(network(0, 1))\n",
    "print(network(0, 0))"
   ]
  },
  {
   "cell_type": "markdown",
   "metadata": {},
   "source": [
    "**XOR Network with 3 Perceptrons**"
   ]
  },
  {
   "cell_type": "code",
   "execution_count": 35,
   "metadata": {},
   "outputs": [
    {
     "name": "stdout",
     "output_type": "stream",
     "text": [
      "[-0.026414675884606442, -0.5541296592695797, -0.732296699393026]\n",
      "[0.8744238644234399, -0.8816360334074824, 0.5238647800943286]\n",
      "[0.09005270892545592, 0.39116154747133836, -0.36227963612987457]\n"
     ]
    }
   ],
   "source": [
    "a = Perceptron(3, act='step')\n",
    "b = Perceptron(3, act='step')\n",
    "c = Perceptron(3, act='step')"
   ]
  },
  {
   "cell_type": "code",
   "execution_count": 36,
   "metadata": {},
   "outputs": [],
   "source": [
    "def network(first, second):\n",
    "    a_out = a.feed_forward([first, second, 1])\n",
    "    b_out = b.feed_forward([first, second, 1])\n",
    "    c_out = c.feed_forward([a_out, b_out, 1])\n",
    "    return c_out"
   ]
  },
  {
   "cell_type": "code",
   "execution_count": 38,
   "metadata": {},
   "outputs": [
    {
     "name": "stdout",
     "output_type": "stream",
     "text": [
      "[0.6994101580545675, -1.2259228678535024, -0.6989771970906062]\n",
      "[0.7109859370424579, -0.8165011775436793, 0.42749455265870145]\n",
      "[0.09005270892545592, -0.008838452528661856, 0.007720363870125613]\n"
     ]
    }
   ],
   "source": [
    "# train the network\n",
    "for _ in range(0,1000000):\n",
    "    first = random.choice([0, 1])\n",
    "    second = random.choice([0, 1])\n",
    "    c_out = network(first, second)\n",
    "#     a_out = a.feed_forward([first, second, 1])\n",
    "#     b_out = b.feed_forward([first, second, 1])\n",
    "#     c_out = c.feed_forward([a_out, b_out, 1])\n",
    "    \n",
    "    if (first != second):\n",
    "        answer = 1\n",
    "    else:\n",
    "        answer = 0\n",
    "        \n",
    "    back_error = c.backward_pass(c_out - answer)\n",
    "    a.backward_pass(back_error[0])\n",
    "    b.backward_pass(back_error[1])\n",
    "    \n",
    "print(a.get_weights())\n",
    "print(b.get_weights())\n",
    "print(c.get_weights())"
   ]
  },
  {
   "cell_type": "code",
   "execution_count": 39,
   "metadata": {},
   "outputs": [
    {
     "name": "stdout",
     "output_type": "stream",
     "text": [
      "0\n",
      "1\n",
      "1\n",
      "0\n"
     ]
    }
   ],
   "source": [
    "print(network(1, 1))\n",
    "print(network(1, 0))\n",
    "print(network(0, 1))\n",
    "print(network(0, 0))"
   ]
  },
  {
   "cell_type": "code",
   "execution_count": 131,
   "metadata": {},
   "outputs": [
    {
     "name": "stdout",
     "output_type": "stream",
     "text": [
      "1.000000\n",
      "0.000000\n",
      "0.000000\n",
      "0.000000\n",
      "\n",
      "\n",
      "1.000000\n",
      "1.000000\n",
      "1.000000\n",
      "0.000000\n",
      "\n",
      "\n",
      "0.000000\n",
      "0.000000\n",
      "1.000000\n",
      "0.000000\n"
     ]
    }
   ],
   "source": [
    "print('%f' % a.feed_forward([1, 1, 1]))\n",
    "print('%f' % a.feed_forward([1, 0, 1]))\n",
    "print('%f' % a.feed_forward([0, 1, 1]))\n",
    "print('%f' % a.feed_forward([0, 0, 1]))\n",
    "print(\"\\n\")\n",
    "print('%f' % b.feed_forward([1, 1, 1]))\n",
    "print('%f' % b.feed_forward([1, 0, 1]))\n",
    "print('%f' % b.feed_forward([0, 1, 1]))\n",
    "print('%f' % b.feed_forward([0, 0, 1]))\n",
    "print(\"\\n\")\n",
    "print('%f' % c.feed_forward([1, 1, 1]))\n",
    "print('%f' % c.feed_forward([1, 0, 1]))\n",
    "print('%f' % c.feed_forward([0, 1, 1]))\n",
    "print('%f' % c.feed_forward([0, 0, 1]))"
   ]
  },
  {
   "cell_type": "markdown",
   "metadata": {},
   "source": [
    "**Parabola**\n",
    "\n",
    "Utilizing non-lenear activation"
   ]
  },
  {
   "cell_type": "code",
   "execution_count": 3,
   "metadata": {},
   "outputs": [],
   "source": [
    "def parabola(x):\n",
    "    return 0.005 * pow(x - 500, 2) + 250"
   ]
  },
  {
   "cell_type": "code",
   "execution_count": 58,
   "metadata": {},
   "outputs": [
    {
     "name": "stdout",
     "output_type": "stream",
     "text": [
      "[0.20917815737193202, -0.23639400057079452, 0.27495596475726036]\n",
      "[-0.5095881229167303, -0.9707882568372936, -0.6790186068221049]\n",
      "[-0.7317177330177915, -0.1529564810869779, -0.1411097134146675]\n"
     ]
    }
   ],
   "source": [
    "# a = Perceptron(3, act='step')\n",
    "# b = Perceptron(3, act='step')\n",
    "# c = Perceptron(3, act='step')\n",
    "a = Perceptron(3, act='sigmoid')\n",
    "b = Perceptron(3, act='sigmoid')\n",
    "c = Perceptron(3, act='sigmoid')\n",
    "\n",
    "def network(first, second):\n",
    "    a_out = a.feed_forward([first, second, 1])\n",
    "    b_out = b.feed_forward([first, second, 1])\n",
    "    c_out = c.feed_forward([a_out, b_out, 1])\n",
    "    return c_out"
   ]
  },
  {
   "cell_type": "code",
   "execution_count": 59,
   "metadata": {},
   "outputs": [
    {
     "name": "stdout",
     "output_type": "stream",
     "text": [
      "[12.190508786880516, -5.056695774321589, -5.818481793465892]\n",
      "2.4107657116303396 -1.1506489718073865\n",
      "[-12.39864219343587, -5.090676723126714, 6.42003725408214]\n",
      "-2.435558741553829 1.2611363092290266\n",
      "[-13.959946650288039, -14.187156634027685, 8.001571238496876]\n"
     ]
    }
   ],
   "source": [
    "for _ in range(0,2000000):\n",
    "    x_coord = random.random() * 1000\n",
    "    y_coord = random.random() * 1000\n",
    "    curve_y = parabola(x_coord)\n",
    "    x_norm = x_coord / 1000\n",
    "    y_norm = y_coord / 1000\n",
    "\n",
    "    c_out = network(x_norm, y_norm)\n",
    "    \n",
    "    if y_coord > curve_y:\n",
    "        answer = 1\n",
    "    else:\n",
    "        answer = 0\n",
    "\n",
    "    back_error = c.backward_pass(c_out - answer)\n",
    "    a.backward_pass(back_error[0])\n",
    "    b.backward_pass(back_error[1])\n",
    "    \n",
    "nodea = a.get_weights()\n",
    "print(nodea)\n",
    "print(-nodea[0]/nodea[1], -nodea[2]/nodea[1])\n",
    "nodeb = b.get_weights()\n",
    "print(nodeb)\n",
    "print(-nodeb[0]/nodeb[1], -nodeb[2]/nodeb[1])\n",
    "print(c.get_weights())"
   ]
  },
  {
   "cell_type": "code",
   "execution_count": 60,
   "metadata": {},
   "outputs": [
    {
     "name": "stdout",
     "output_type": "stream",
     "text": [
      "988\n"
     ]
    }
   ],
   "source": [
    "# determine the accuracy\n",
    "correct = 0\n",
    "\n",
    "for _ in range(0,1000):\n",
    "    x_coord = random.random() * 1000\n",
    "    y_coord = random.random() * 1000\n",
    "    curve_y = parabola(x_coord)\n",
    "    x_norm = x_coord / 1000\n",
    "    y_norm = y_coord / 1000\n",
    "    \n",
    "    is_above = y_coord > curve_y\n",
    "    guess_above = network(x_norm, y_norm)\n",
    "    \n",
    "    if (is_above == True and guess_above >= 0.5):\n",
    "        correct += 1\n",
    "    if (is_above == False and guess_above < 0.5):\n",
    "        correct += 1\n",
    "\n",
    "print(correct)"
   ]
  },
  {
   "cell_type": "code",
   "execution_count": 61,
   "metadata": {},
   "outputs": [
    {
     "name": "stdout",
     "output_type": "stream",
     "text": [
      "0.000000\n",
      "0.002577\n",
      "0.002055\n",
      "0.999665\n"
     ]
    }
   ],
   "source": [
    "print('%f' % c.feed_forward([1, 1, 1]))\n",
    "print('%f' % c.feed_forward([1, 0, 1]))\n",
    "print('%f' % c.feed_forward([0, 1, 1]))\n",
    "print('%f' % c.feed_forward([0, 0, 1]))"
   ]
  },
  {
   "cell_type": "code",
   "execution_count": 62,
   "metadata": {},
   "outputs": [],
   "source": [
    "def line_a(x):\n",
    "    return 2.4818372680469687 * x - 1146.7840987207953\n",
    "def line_b(x):\n",
    "    return -2.5104326279010922 * x + 1313.663879791022"
   ]
  },
  {
   "cell_type": "code",
   "execution_count": 63,
   "metadata": {},
   "outputs": [
    {
     "name": "stdout",
     "output_type": "stream",
     "text": [
      "26\n",
      "13\n"
     ]
    }
   ],
   "source": [
    "# check the accuracy\n",
    "correct_a = 0\n",
    "correct_b = 0\n",
    "\n",
    "for _ in range(0,1000):\n",
    "    x_coord = random.random() * 1000\n",
    "    y_coord = random.random() * 1000\n",
    "    line_y_a = line_a(x_coord)\n",
    "    line_y_b = line_b(x_coord)\n",
    "    x_norm = x_coord / 1000\n",
    "    y_norm = y_coord / 1000\n",
    "#     print(x_coord, y_coord, line_y_a, line_y_b)\n",
    "    \n",
    "    is_above_a = y_coord > line_y_a\n",
    "    is_above_b = y_coord > line_y_b\n",
    "    guess_above_a = a.feed_forward([x_norm, y_norm, 1])\n",
    "    guess_above_b = b.feed_forward([x_norm, y_norm, 1])\n",
    "#     print(is_above_a, is_above_b, guess_above_a, guess_above_b)\n",
    "    \n",
    "    if (is_above_a == True and guess_above_a >= 0.5):\n",
    "        correct_a += 1\n",
    "    if (is_above_a == False and guess_above_a < 0.5):\n",
    "        correct_a += 1\n",
    "    if (is_above_b == True and guess_above_b >= 0.5):\n",
    "        correct_b += 1\n",
    "    if (is_above_b == False and guess_above_b < 0.5):\n",
    "        correct_b += 1\n",
    "\n",
    "print(correct_a)\n",
    "print(correct_b)"
   ]
  }
 ],
 "metadata": {
  "kernelspec": {
   "display_name": "Python 3",
   "language": "python",
   "name": "python3"
  },
  "language_info": {
   "codemirror_mode": {
    "name": "ipython",
    "version": 3
   },
   "file_extension": ".py",
   "mimetype": "text/x-python",
   "name": "python",
   "nbconvert_exporter": "python",
   "pygments_lexer": "ipython3",
   "version": "3.6.4"
  }
 },
 "nbformat": 4,
 "nbformat_minor": 2
}
